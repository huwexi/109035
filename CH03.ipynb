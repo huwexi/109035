{
 "cells": [
  {
   "cell_type": "code",
   "execution_count": 8,
   "metadata": {},
   "outputs": [
    {
     "name": "stdout",
     "output_type": "stream",
     "text": [
      "100 200\n",
      "100\n",
      "200\n",
      "\n"
     ]
    }
   ],
   "source": [
    "a=100\n",
    "b=200\n",
    "c,d=a,b\n",
    "print(c,d)\n",
    "print(c)\n",
    "print(d)\n",
    "print()"
   ]
  },
  {
   "cell_type": "code",
   "execution_count": 9,
   "metadata": {},
   "outputs": [
    {
     "name": "stdout",
     "output_type": "stream",
     "text": [
      "100 200\n",
      "100 200***over\n"
     ]
    }
   ],
   "source": [
    "a=100\n",
    "b=200\n",
    "c,d=a,b\n",
    "print(c,d)\n",
    "print(c,end=' ')\n",
    "print(d,end='***')\n",
    "print('over')"
   ]
  },
  {
   "cell_type": "code",
   "execution_count": 10,
   "metadata": {},
   "outputs": [
    {
     "name": "stdout",
     "output_type": "stream",
     "text": [
      "100 200\n",
      "100$and\n",
      "200***over\n"
     ]
    }
   ],
   "source": [
    "a=100\n",
    "b=200\n",
    "c,d=a,b\n",
    "print(c,d)\n",
    "print(c,end='$')\n",
    "print('and')\n",
    "print(d,end='***')\n",
    "print('over')"
   ]
  },
  {
   "cell_type": "code",
   "execution_count": 11,
   "metadata": {},
   "outputs": [
    {
     "name": "stdout",
     "output_type": "stream",
     "text": [
      "300\n",
      "33.333333333333336\n",
      "33\n",
      "1\n",
      "1000000\n",
      "10.0\n"
     ]
    }
   ],
   "source": [
    "x=100\n",
    "y=3\n",
    "print(x*y)\n",
    "print(x/y)\n",
    "print(x//y)\n",
    "print(x%y)\n",
    "print(x**y)\n",
    "print(x**0.5)"
   ]
  },
  {
   "cell_type": "code",
   "execution_count": 12,
   "metadata": {},
   "outputs": [
    {
     "name": "stdout",
     "output_type": "stream",
     "text": [
      "hello,Python\n",
      "300\n"
     ]
    }
   ],
   "source": [
    "str1='hello,'\n",
    "str2='Python'\n",
    "str3=str1+str2\n",
    "print(str3)\n",
    "a=100\n",
    "b=200\n",
    "c=a+b\n",
    "print(c)"
   ]
  },
  {
   "cell_type": "code",
   "execution_count": 13,
   "metadata": {},
   "outputs": [
    {
     "name": "stdout",
     "output_type": "stream",
     "text": [
      "hello,Python,Let's learning Python now\n"
     ]
    }
   ],
   "source": [
    "str1='hello,'+\\\n",
    "     'Python,Let\\'s learning'\n",
    "str2=' Python now'\n",
    "str3=str1+str2\n",
    "print(str3)"
   ]
  },
  {
   "cell_type": "code",
   "execution_count": 14,
   "metadata": {},
   "outputs": [
    {
     "name": "stdout",
     "output_type": "stream",
     "text": [
      "33\n",
      "1\n",
      "33.333333333333336\n"
     ]
    }
   ],
   "source": [
    "a=100\n",
    "b=3\n",
    "a//=b\n",
    "print(a)\n",
    "\n",
    "a=100\n",
    "a%=b\n",
    "print(a)\n",
    "\n",
    "a=100\n",
    "a/=b\n",
    "print(a)"
   ]
  },
  {
   "cell_type": "code",
   "execution_count": 15,
   "metadata": {},
   "outputs": [
    {
     "name": "stdout",
     "output_type": "stream",
     "text": [
      "100 200\n",
      "200 100\n"
     ]
    }
   ],
   "source": [
    "a=100\n",
    "b=200\n",
    "print(a,b)\n",
    "\n",
    "b,a=a,b\n",
    "print(a,b)"
   ]
  },
  {
   "cell_type": "code",
   "execution_count": 16,
   "metadata": {},
   "outputs": [
    {
     "name": "stdout",
     "output_type": "stream",
     "text": [
      "100 200\n",
      "200 100\n"
     ]
    }
   ],
   "source": [
    "a=100\n",
    "b=200\n",
    "print(a,b)\n",
    "\n",
    "temp=a\n",
    "a=b\n",
    "b=temp\n",
    "print(a,b)"
   ]
  },
  {
   "cell_type": "code",
   "execution_count": 18,
   "metadata": {},
   "outputs": [
    {
     "name": "stdout",
     "output_type": "stream",
     "text": [
      "enter an integer100\n",
      "100 200\n",
      "enter an string100\n",
      "100i8\n"
     ]
    }
   ],
   "source": [
    "a=eval(input('enter an integer'))\n",
    "b=a+100\n",
    "print(a,b)\n",
    "\n",
    "str1=input('enter an string')\n",
    "str2=str1+'i8'\n",
    "print(str2)"
   ]
  },
  {
   "cell_type": "code",
   "execution_count": 19,
   "metadata": {},
   "outputs": [
    {
     "name": "stdout",
     "output_type": "stream",
     "text": [
      "100 200\n",
      "100 100\n"
     ]
    }
   ],
   "source": [
    "a=100\n",
    "b=200\n",
    "print(a,b)\n",
    "\n",
    "b=a\n",
    "a=b \n",
    "print(a,b)"
   ]
  },
  {
   "cell_type": "code",
   "execution_count": 20,
   "metadata": {},
   "outputs": [
    {
     "name": "stdout",
     "output_type": "stream",
     "text": [
      "enter an integer:100\n",
      "100 200\n"
     ]
    }
   ],
   "source": [
    "a=eval(input('enter an integer:'))\n",
    "b = a + 100\n",
    "print(a,b)"
   ]
  },
  {
   "cell_type": "code",
   "execution_count": 21,
   "metadata": {},
   "outputs": [
    {
     "name": "stdout",
     "output_type": "stream",
     "text": [
      "8.2\n",
      "8\n",
      "1\n",
      "0\n",
      "1\n",
      "2\n",
      "45\n",
      "46\n",
      "195\n",
      "-9.0\n"
     ]
    }
   ],
   "source": [
    "print(41/5)\n",
    "print(41//5)\n",
    "print(41%5)\n",
    "print(50%5)\n",
    "print(1%2)\n",
    "print(35%3)\n",
    "print(45+4*3-12)\n",
    "print(45+34%3*(21*3%2))\n",
    "print(6**3-21)\n",
    "print(100**0.5*2-29)"
   ]
  },
  {
   "cell_type": "code",
   "execution_count": 22,
   "metadata": {},
   "outputs": [
    {
     "name": "stdout",
     "output_type": "stream",
     "text": [
      "13\n"
     ]
    }
   ],
   "source": [
    "a=10\n",
    "a+=3\n",
    "print(a)"
   ]
  },
  {
   "cell_type": "code",
   "execution_count": 23,
   "metadata": {},
   "outputs": [
    {
     "name": "stdout",
     "output_type": "stream",
     "text": [
      "30\n"
     ]
    }
   ],
   "source": [
    "a=10\n",
    "a*=3\n",
    "print(a)"
   ]
  },
  {
   "cell_type": "code",
   "execution_count": 24,
   "metadata": {},
   "outputs": [
    {
     "name": "stdout",
     "output_type": "stream",
     "text": [
      "3.3333333333333335\n"
     ]
    }
   ],
   "source": [
    "a=10\n",
    "a/=3\n",
    "print(a)"
   ]
  },
  {
   "cell_type": "code",
   "execution_count": 25,
   "metadata": {},
   "outputs": [
    {
     "name": "stdout",
     "output_type": "stream",
     "text": [
      "3\n"
     ]
    }
   ],
   "source": [
    "a=10\n",
    "a//=3\n",
    "print(a)"
   ]
  },
  {
   "cell_type": "code",
   "execution_count": 26,
   "metadata": {},
   "outputs": [
    {
     "name": "stdout",
     "output_type": "stream",
     "text": [
      "1\n"
     ]
    }
   ],
   "source": [
    "a=10\n",
    "a%=3\n",
    "print(a)"
   ]
  },
  {
   "cell_type": "code",
   "execution_count": 27,
   "metadata": {},
   "outputs": [
    {
     "name": "stdout",
     "output_type": "stream",
     "text": [
      "122*****333\n",
      "\n"
     ]
    }
   ],
   "source": [
    "print(1,end='')\n",
    "print(22,end='*****')\n",
    "print(333)\n",
    "print()"
   ]
  },
  {
   "cell_type": "code",
   "execution_count": 28,
   "metadata": {},
   "outputs": [
    {
     "name": "stdout",
     "output_type": "stream",
     "text": [
      "1$22@@@@@333\n",
      "over\n"
     ]
    }
   ],
   "source": [
    "print(1,end='$')\n",
    "print(22,end='@@@@@')\n",
    "print(333)\n",
    "print('over')"
   ]
  },
  {
   "cell_type": "code",
   "execution_count": 29,
   "metadata": {},
   "outputs": [
    {
     "name": "stdout",
     "output_type": "stream",
     "text": [
      "請輸入第一數值20\n",
      "請輸入第二數值40\n",
      "請輸入第三數值60\n",
      "請輸入第四數值80\n",
      "請輸入第五數值100\n",
      "20 40 60 80 100\n",
      "SAM= 300\n",
      "Average= 60\n"
     ]
    }
   ],
   "source": [
    "a=eval(input('請輸入第一數值'))\n",
    "b=eval(input('請輸入第二數值'))\n",
    "c=eval(input('請輸入第三數值'))\n",
    "d=eval(input('請輸入第四數值'))\n",
    "e=eval(input('請輸入第五數值'))\n",
    "\n",
    "print(a,b,c,d,e)\n",
    "print('SAM=',a+b+c+d+e)\n",
    "print('Average=',(a+b+c+d+e)//5)"
   ]
  },
  {
   "cell_type": "code",
   "execution_count": 30,
   "metadata": {},
   "outputs": [
    {
     "name": "stdout",
     "output_type": "stream",
     "text": [
      "請輸入五個數值20,40,60,80,100\n",
      "20 40 60 80 100\n",
      "SAM= 300\n",
      "Average= 60.0\n"
     ]
    }
   ],
   "source": [
    "a,b,c,d,e=eval(input('請輸入五個數值'))\n",
    "print(a,b,c,d,e)\n",
    "print('SAM=',a+b+c+d+e)\n",
    "print('Average=',(a+b+c+d+e)/5)"
   ]
  },
  {
   "cell_type": "code",
   "execution_count": 32,
   "metadata": {},
   "outputs": [
    {
     "name": "stdout",
     "output_type": "stream",
     "text": [
      "enter height:23.5\n",
      "enter weight:19\n",
      "height= 23.5\n",
      "weight= 19\n",
      "perimeter= 85.0\n",
      "area= 446.5\n"
     ]
    }
   ],
   "source": [
    "a=eval(input('enter height:'))\n",
    "b=eval(input('enter weight:'))\n",
    "\n",
    "print('height=',a)\n",
    "print('weight=',b)\n",
    "print('perimeter=',(a+b)*2)\n",
    "print('area=',a*b)"
   ]
  },
  {
   "cell_type": "code",
   "execution_count": 35,
   "metadata": {},
   "outputs": [
    {
     "name": "stdout",
     "output_type": "stream",
     "text": [
      "請輸入正三角形邊長:10\n",
      "高: 8.660254037844386\n",
      "面積: 43.30127018922193\n"
     ]
    }
   ],
   "source": [
    "a=eval(input('請輸入正三角形邊長:'))\n",
    "\n",
    "print('高:',(3**0.5/2)*a)\n",
    "print('面積:',(3**0.5/4)*(a**2))"
   ]
  },
  {
   "cell_type": "code",
   "execution_count": 36,
   "metadata": {},
   "outputs": [
    {
     "name": "stdout",
     "output_type": "stream",
     "text": [
      "請依序輸入x分y秒跑完z公里:10,25,3\n",
      "speed: 10.8 miles/hour\n"
     ]
    }
   ],
   "source": [
    "x,y,z=eval(input('請依序輸入x分y秒跑完z公里:'))\n",
    "\n",
    "print('speed:',z/1.6/(x*60+y)*3600,'miles/hour')"
   ]
  },
  {
   "cell_type": "code",
   "execution_count": 37,
   "metadata": {},
   "outputs": [
    {
     "name": "stdout",
     "output_type": "stream",
     "text": [
      "請輸入miles:1\n",
      "1.6 km\n"
     ]
    }
   ],
   "source": [
    "a=eval(input('請輸入miles:'))\n",
    "print(a*1.6,'km')"
   ]
  },
  {
   "cell_type": "code",
   "execution_count": 38,
   "metadata": {},
   "outputs": [
    {
     "name": "stdout",
     "output_type": "stream",
     "text": [
      "請輸入華氏溫度:32\n",
      "0.0 攝氏溫度\n"
     ]
    }
   ],
   "source": [
    "a=eval(input('請輸入華氏溫度:'))\n",
    "print((a-32)*5/9,'攝氏溫度')"
   ]
  },
  {
   "cell_type": "code",
   "execution_count": 12,
   "metadata": {},
   "outputs": [
    {
     "name": "stdout",
     "output_type": "stream",
     "text": [
      "請輸入姓名黃暐翔\n",
      "請輸入學號:109230035\n",
      "請輸入地址彰縣\n",
      "姓名: 黃暐翔\n",
      "學號: 109230035\n",
      "地址: 彰縣\n"
     ]
    }
   ],
   "source": [
    "n=input('請輸入姓名')\n",
    "s=eval(input('請輸入學號:'))\n",
    "p=input('請輸入地址')\n",
    "print('姓名:',n)\n",
    "print('學號:',s)\n",
    "print('地址:',p)"
   ]
  },
  {
   "cell_type": "code",
   "execution_count": 4,
   "metadata": {},
   "outputs": [
    {
     "name": "stdout",
     "output_type": "stream",
     "text": [
      "請輸入三個數值20,40,60\n",
      "SAM= 120\n",
      "Average= 40.0\n"
     ]
    }
   ],
   "source": [
    "a,b,c=eval(input('請輸入三個數值'))\n",
    "\n",
    "print('SAM=',a+b+c)\n",
    "print('Average=',(a+b+c)/3)"
   ]
  },
  {
   "cell_type": "code",
   "execution_count": 5,
   "metadata": {},
   "outputs": [],
   "source": [
    "import math as ma"
   ]
  },
  {
   "cell_type": "code",
   "execution_count": 8,
   "metadata": {},
   "outputs": [
    {
     "name": "stdout",
     "output_type": "stream",
     "text": [
      "請輸入圓的半徑:10\n",
      "面積: 314.1592653589793\n",
      "周長: 62.83185307179586\n"
     ]
    }
   ],
   "source": [
    "a=eval(input('請輸入圓的半徑:'))\n",
    "\n",
    "print('面積:',a*a*ma.pi)\n",
    "print('周長:',2*a*ma.pi)"
   ]
  },
  {
   "cell_type": "code",
   "execution_count": 41,
   "metadata": {},
   "outputs": [
    {
     "name": "stdout",
     "output_type": "stream",
     "text": [
      "請輸入矩形的長跟寬:10,2\n",
      "面積: 20\n",
      "周長: 24\n"
     ]
    }
   ],
   "source": [
    "a,b=eval(input('請輸入矩形的長跟寬:'))\n",
    "print('面積:',a*b)\n",
    "print('周長:',(a+b)*2)"
   ]
  },
  {
   "cell_type": "code",
   "execution_count": 42,
   "metadata": {},
   "outputs": [
    {
     "name": "stdout",
     "output_type": "stream",
     "text": [
      "請輸入x,y:30,40\n",
      "-840.425\n"
     ]
    }
   ],
   "source": [
    "x,y=eval(input('請輸入x,y:'))\n",
    "\n",
    "print((3+4*x)/5-(10*(y-5)*(x+y+5)/x)+9*(4/x+(9+x)/y))"
   ]
  },
  {
   "cell_type": "code",
   "execution_count": 14,
   "metadata": {},
   "outputs": [
    {
     "name": "stdout",
     "output_type": "stream",
     "text": [
      "請輸入a:10\n",
      "請輸入b:10\n",
      "請輸入c:10\n",
      "-930.3583333333333\n"
     ]
    }
   ],
   "source": [
    "a=eval(input('請輸入a:'))\n",
    "b=eval(input('請輸入b:'))\n",
    "c=eval(input('請輸入c:'))\n",
    "\n",
    "d=4/3*(a+34)\n",
    "e=9*(a+b*c)\n",
    "f=(9+3*a)/(a+3*b)\n",
    "print(d-e+f)"
   ]
  },
  {
   "cell_type": "code",
   "execution_count": null,
   "metadata": {},
   "outputs": [],
   "source": []
  }
 ],
 "metadata": {
  "kernelspec": {
   "display_name": "Python 3",
   "language": "python",
   "name": "python3"
  },
  "language_info": {
   "codemirror_mode": {
    "name": "ipython",
    "version": 3
   },
   "file_extension": ".py",
   "mimetype": "text/x-python",
   "name": "python",
   "nbconvert_exporter": "python",
   "pygments_lexer": "ipython3",
   "version": "3.8.3"
  }
 },
 "nbformat": 4,
 "nbformat_minor": 4
}
