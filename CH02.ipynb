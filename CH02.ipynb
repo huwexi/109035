{
 "cells": [
  {
   "cell_type": "code",
   "execution_count": 5,
   "metadata": {},
   "outputs": [
    {
     "name": "stdout",
     "output_type": "stream",
     "text": [
      "|     12345        12   1234567|\n",
      "|        12   1234567       123|\n",
      "|   1234567       123     12345|\n"
     ]
    }
   ],
   "source": [
    "print('|%10d %9d %9d|'%(12345,12,1234567))\n",
    "print('|%10d %9d %9d|'%(12,1234567,123))\n",
    "print('|%10d %9d %9d|'%(1234567,123,12345))"
   ]
  },
  {
   "cell_type": "code",
   "execution_count": 6,
   "metadata": {},
   "outputs": [
    {
     "name": "stdout",
     "output_type": "stream",
     "text": [
      "department  \n",
      "of          \n",
      "computer    \n",
      "science     \n"
     ]
    }
   ],
   "source": [
    "print(format('department','12s'))\n",
    "print(format('of','12s'))\n",
    "print(format('computer','12s'))\n",
    "print(format('science','12s'))"
   ]
  },
  {
   "cell_type": "code",
   "execution_count": 7,
   "metadata": {},
   "outputs": [
    {
     "name": "stdout",
     "output_type": "stream",
     "text": [
      "  department\n",
      "          of\n",
      "    computer\n",
      "     science\n"
     ]
    }
   ],
   "source": [
    "print(format('department','>12s'))\n",
    "print(format('of','>12s'))\n",
    "print(format('computer','>12s'))\n",
    "print(format('science','>12s'))"
   ]
  },
  {
   "cell_type": "code",
   "execution_count": 8,
   "metadata": {},
   "outputs": [
    {
     "name": "stdout",
     "output_type": "stream",
     "text": [
      "    123.46\n",
      "  12345.68\n"
     ]
    }
   ],
   "source": [
    "print(format(123.456,'10.2f'))\n",
    "print(format(12345.678,'10.2f'))"
   ]
  },
  {
   "cell_type": "code",
   "execution_count": 12,
   "metadata": {},
   "outputs": [
    {
     "name": "stdout",
     "output_type": "stream",
     "text": [
      "i=100\n",
      "i=100,j=200\n"
     ]
    }
   ],
   "source": [
    "print('i=%d'%(100))\n",
    "print('i=%d,j=%d'%(100,200))"
   ]
  },
  {
   "cell_type": "code",
   "execution_count": 19,
   "metadata": {},
   "outputs": [
    {
     "name": "stdout",
     "output_type": "stream",
     "text": [
      "price:$  356.09\n",
      "    123.46     345.79\n",
      "123.46      100\n",
      "radius=5,area=  78.54\n",
      "radius:  5,area:     78.54\n"
     ]
    }
   ],
   "source": [
    "print('price:$%8.2f'%(356.08977))\n",
    "print('%10.2f %10.2f'%(123.456,345.789))\n",
    "print('%-10.2f%5d'%(123.456,100))\n",
    "print('radius=%d,area=%7.2f'%(5,5*5*3.14159))\n",
    "print('radius:{a:3d},area:{b:10.2f}'.format(a=5,b=5*5*3.14159))"
   ]
  },
  {
   "cell_type": "code",
   "execution_count": 23,
   "metadata": {},
   "outputs": [
    {
     "name": "stdout",
     "output_type": "stream",
     "text": [
      "3.25 degree celsius in fahrenheit is 37.85\n",
      "94.50 degree fahrenheit in celsius is 34.72\n"
     ]
    }
   ],
   "source": [
    "print('%.2f degree celsius in fahrenheit \\\n",
    "is %.2f'%(3.25,3.25*1.8+32))\n",
    "print('%.2f degree fahrenheit in celsius \\\n",
    "is %.2f'%(94.5,(94.5-32)/1.8))"
   ]
  },
  {
   "cell_type": "code",
   "execution_count": 28,
   "metadata": {},
   "outputs": [
    {
     "name": "stdout",
     "output_type": "stream",
     "text": [
      "mouth          amount    \n",
      "1              43400.20  \n",
      "2              45430.28  \n",
      "3              48030.48  \n",
      "4              51112.96  \n",
      "5              52857.20  \n"
     ]
    }
   ],
   "source": [
    "print('%-15s%-10s'%('mouth','amount'))\n",
    "print('%-15d%-10.2f'%(1,43400.2))\n",
    "print('%-15d%-10.2f'%(2,45430.28))\n",
    "print('%-15d%-10.2f'%(3,48030.48))\n",
    "print('%-15d%-10.2f'%(4,51112.96))\n",
    "print('%-15d%-10.2f'%(5,52857.2))"
   ]
  },
  {
   "cell_type": "code",
   "execution_count": 69,
   "metadata": {},
   "outputs": [
    {
     "name": "stdout",
     "output_type": "stream",
     "text": [
      "123     45\n",
      "123456  78901  \n"
     ]
    }
   ],
   "source": [
    "print(format(123,'<8d'),end='')\n",
    "print(format(45,'<2d'))\n",
    "print(format(123456,'<8d'),end='')\n",
    "print(format(78901,'<7d'))"
   ]
  },
  {
   "cell_type": "code",
   "execution_count": 57,
   "metadata": {},
   "outputs": [
    {
     "name": "stdout",
     "output_type": "stream",
     "text": [
      "123     45\n",
      "123456  78901  \n"
     ]
    }
   ],
   "source": [
    "print('{0:<8d}'.format(123),end='')\n",
    "print('{0:<2d}'.format(45))\n",
    "print('{0:<8d}'.format(123456),end='')\n",
    "print('{0:<7d}'.format(78901))"
   ]
  },
  {
   "cell_type": "code",
   "execution_count": 68,
   "metadata": {},
   "outputs": [
    {
     "name": "stdout",
     "output_type": "stream",
     "text": [
      "123     45\n",
      "123456  78901  \n"
     ]
    }
   ],
   "source": [
    "print('%-7d %-2d'%(123,45))\n",
    "print('%-7d %-7d'%(123456,78901))"
   ]
  },
  {
   "cell_type": "code",
   "execution_count": 71,
   "metadata": {},
   "outputs": [
    {
     "name": "stdout",
     "output_type": "stream",
     "text": [
      "     123     45\n",
      "  123456  78901\n"
     ]
    }
   ],
   "source": [
    "print(format(123,'>8d'),end='')\n",
    "print(format(45,'>7d'))\n",
    "print(format(123456,'>8d'),end='')\n",
    "print(format(78901,'>7d'))"
   ]
  },
  {
   "cell_type": "code",
   "execution_count": 72,
   "metadata": {},
   "outputs": [
    {
     "name": "stdout",
     "output_type": "stream",
     "text": [
      "     123     45\n",
      "  123456  78901\n"
     ]
    }
   ],
   "source": [
    "print('{0:>8d}'.format(123),end='')\n",
    "print('{0:>7d}'.format(45))\n",
    "print('{0:>8d}'.format(123456),end='')\n",
    "print('{0:>7d}'.format(78901))"
   ]
  },
  {
   "cell_type": "code",
   "execution_count": 74,
   "metadata": {},
   "outputs": [
    {
     "name": "stdout",
     "output_type": "stream",
     "text": [
      "    123      45\n",
      " 123456   78901\n"
     ]
    }
   ],
   "source": [
    "print('%7d %7d'%(123,45))\n",
    "print('%7d %7d'%(123456,78901))"
   ]
  },
  {
   "cell_type": "code",
   "execution_count": 76,
   "metadata": {},
   "outputs": [
    {
     "name": "stdout",
     "output_type": "stream",
     "text": [
      "member karen  ,discount 0.35\n",
      "member sammy  ,discount 0.40\n",
      "member jojo   ,discount 0.42\n"
     ]
    }
   ],
   "source": [
    "print('member {0:7s},discount {1:3.2f}'.format('karen',0.35))\n",
    "print('member {0:7s},discount {1:3.2f}'.format('sammy',0.4))\n",
    "print('member {0:7s},discount {1:3.2f}'.format('jojo',0.42))"
   ]
  },
  {
   "cell_type": "code",
   "execution_count": 77,
   "metadata": {},
   "outputs": [
    {
     "name": "stdout",
     "output_type": "stream",
     "text": [
      "                tall short               \n",
      "              strong weak                \n",
      "               thick thin                \n"
     ]
    }
   ],
   "source": [
    "print('%20s %-20s'%('tall','short'))\n",
    "print('%20s %-20s'%('strong','weak'))\n",
    "print('%20s %-20s'%('thick','thin'))"
   ]
  },
  {
   "cell_type": "code",
   "execution_count": 81,
   "metadata": {},
   "outputs": [
    {
     "name": "stdout",
     "output_type": "stream",
     "text": [
      "    apple's product: iPhone              \n",
      "                     iMac                \n",
      "                     apple watch         \n",
      "                     ...                 \n"
     ]
    }
   ],
   "source": [
    "print('%20s %-20s'%('apple\\'s product:','iPhone'))\n",
    "print('%20s %-20s'%('','iMac'))\n",
    "print('%20s %-20s'%('','apple watch'))\n",
    "print('%20s %-20s'%('','...'))"
   ]
  },
  {
   "cell_type": "code",
   "execution_count": 82,
   "metadata": {},
   "outputs": [
    {
     "name": "stdout",
     "output_type": "stream",
     "text": [
      "city            celsius\n",
      "taipei            33.20\n",
      "yilan             32.93\n",
      "miaoli            32.29\n",
      "taichung          32.48\n",
      "hualian           33.87\n"
     ]
    }
   ],
   "source": [
    "print('%-15s %7s'%('city','celsius'))\n",
    "print('%-15s %7.2f'%('taipei',33.2))\n",
    "print('%-15s %7.2f'%('yilan',32.93))\n",
    "print('%-15s %7.2f'%('miaoli',32.29))\n",
    "print('%-15s %7.2f'%('taichung',32.48))\n",
    "print('%-15s %7.2f'%('hualian',33.87))"
   ]
  },
  {
   "cell_type": "code",
   "execution_count": 86,
   "metadata": {},
   "outputs": [
    {
     "name": "stdout",
     "output_type": "stream",
     "text": [
      "|    22     44     66     88|\n",
      "|33     55     77     99    |\n",
      "|   222    444    555    888|\n",
      "|333    555    777    999   |\n"
     ]
    }
   ],
   "source": [
    "print('|%6d %6d %6d %6d|'%(22,44,66,88))\n",
    "print('|%-6d %-6d %-6d %-6d|'%(33,55,77,99))\n",
    "print('|%6d %6d %6d %6d|'%(222,444,555,888))\n",
    "print('|%-6d %-6d %-6d %-6d|'%(333,555,777,999))"
   ]
  },
  {
   "cell_type": "code",
   "execution_count": 104,
   "metadata": {},
   "outputs": [
    {
     "name": "stdout",
     "output_type": "stream",
     "text": [
      "---------\n",
      "Learning Python now***\n",
      "Python is fun$$$\n",
      "---------\n"
     ]
    }
   ],
   "source": [
    "print('---------')\n",
    "print('Learning Python now***')\n",
    "print('Python is fun$$$')\n",
    "print('---------')"
   ]
  },
  {
   "cell_type": "code",
   "execution_count": 111,
   "metadata": {},
   "outputs": [
    {
     "name": "stdout",
     "output_type": "stream",
     "text": [
      "123.46    45.68\n",
      "123456.79 78901.23\n"
     ]
    }
   ],
   "source": [
    "print('{0:<10.2f}'.format(123.46),end='')\n",
    "print('{0:<.2f}'.format(45.68))\n",
    "print('{0:<10.2f}'.format(123456.79),end='')\n",
    "print('{0:<.2f}'.format(78901.23))"
   ]
  },
  {
   "cell_type": "code",
   "execution_count": 112,
   "metadata": {},
   "outputs": [
    {
     "name": "stdout",
     "output_type": "stream",
     "text": [
      "123.46    45.68\n",
      "123456.79 78901.23\n"
     ]
    }
   ],
   "source": [
    "print('{0:<10.2f}'.format(123.46),end='')\n",
    "print('{0:<.2f}'.format(45.68))\n",
    "print('{0:<10.2f}'.format(123456.79),end='')\n",
    "print('{0:<.2f}'.format(78901.23))"
   ]
  },
  {
   "cell_type": "code",
   "execution_count": 116,
   "metadata": {},
   "outputs": [
    {
     "name": "stdout",
     "output_type": "stream",
     "text": [
      "123.46    45.68\n",
      "123456.79 78901.23\n"
     ]
    }
   ],
   "source": [
    "print('%-9.2f %.2f'%(123.46,45.68))\n",
    "print('%-9.2f %.2f'%(123456.79,78901.23))"
   ]
  },
  {
   "cell_type": "code",
   "execution_count": 120,
   "metadata": {},
   "outputs": [
    {
     "name": "stdout",
     "output_type": "stream",
     "text": [
      "|12345|\n",
      "|12345|\n",
      "|   12345|\n"
     ]
    }
   ],
   "source": [
    "print('|%3d|'%(12345))\n",
    "print('|%5d|'%(12345))\n",
    "print('|%8d|'%(12345))"
   ]
  },
  {
   "cell_type": "code",
   "execution_count": 127,
   "metadata": {},
   "outputs": [
    {
     "name": "stdout",
     "output_type": "stream",
     "text": [
      "|123.456000|\n",
      "|123.46|\n",
      "|    123.46|\n",
      "|123.46|\n",
      "|     apple|\n",
      "|123456  |\n",
      "|123.46    |\n",
      "|apple     |\n"
     ]
    }
   ],
   "source": [
    "print('|%f|'%(123.456))\n",
    "print('|%5.2f|'%(123.456))\n",
    "print('|%10.2f|'%(123.456))\n",
    "print('|%.2f|'%(123.456))\n",
    "print('|%10s|'%('apple'))\n",
    "print('|%-8d|'%(123456))\n",
    "print('|%-10.2f|'%(123.456))\n",
    "print('|%-10s|'%('apple'))"
   ]
  },
  {
   "cell_type": "code",
   "execution_count": 128,
   "metadata": {},
   "outputs": [
    {
     "name": "stdout",
     "output_type": "stream",
     "text": [
      "3\n",
      "6\n"
     ]
    }
   ],
   "source": [
    "i=0\n",
    "i=i+3\n",
    "print(i)\n",
    "i=i+3\n",
    "print(i)"
   ]
  },
  {
   "cell_type": "code",
   "execution_count": 129,
   "metadata": {},
   "outputs": [
    {
     "name": "stdout",
     "output_type": "stream",
     "text": [
      "1000\n",
      "10000\n"
     ]
    }
   ],
   "source": [
    "i=10\n",
    "i*=10\n",
    "i=i*10\n",
    "print(i)\n",
    "i=i*10\n",
    "print(i)"
   ]
  },
  {
   "cell_type": "code",
   "execution_count": 132,
   "metadata": {},
   "outputs": [
    {
     "name": "stdout",
     "output_type": "stream",
     "text": [
      "請輸入整數10\n"
     ]
    },
    {
     "data": {
      "text/plain": [
       "20.0"
      ]
     },
     "execution_count": 132,
     "metadata": {},
     "output_type": "execute_result"
    }
   ],
   "source": [
    "k=input(\"請輸入整數\")\n",
    "float(k)+10"
   ]
  },
  {
   "cell_type": "code",
   "execution_count": 133,
   "metadata": {},
   "outputs": [],
   "source": [
    "import math as ma"
   ]
  },
  {
   "cell_type": "code",
   "execution_count": 134,
   "metadata": {},
   "outputs": [
    {
     "data": {
      "text/plain": [
       "4"
      ]
     },
     "execution_count": 134,
     "metadata": {},
     "output_type": "execute_result"
    }
   ],
   "source": [
    "ma.ceil(3.4)"
   ]
  },
  {
   "cell_type": "code",
   "execution_count": 135,
   "metadata": {},
   "outputs": [
    {
     "data": {
      "text/plain": [
       "True"
      ]
     },
     "execution_count": 135,
     "metadata": {},
     "output_type": "execute_result"
    }
   ],
   "source": [
    "1>=0"
   ]
  },
  {
   "cell_type": "code",
   "execution_count": 136,
   "metadata": {},
   "outputs": [
    {
     "data": {
      "text/plain": [
       "1"
      ]
     },
     "execution_count": 136,
     "metadata": {},
     "output_type": "execute_result"
    }
   ],
   "source": [
    "int(1>=0)"
   ]
  },
  {
   "cell_type": "code",
   "execution_count": 137,
   "metadata": {},
   "outputs": [
    {
     "data": {
      "text/plain": [
       "False"
      ]
     },
     "execution_count": 137,
     "metadata": {},
     "output_type": "execute_result"
    }
   ],
   "source": [
    "1<=0"
   ]
  },
  {
   "cell_type": "code",
   "execution_count": 138,
   "metadata": {},
   "outputs": [
    {
     "data": {
      "text/plain": [
       "0"
      ]
     },
     "execution_count": 138,
     "metadata": {},
     "output_type": "execute_result"
    }
   ],
   "source": [
    "int(1<=0)"
   ]
  },
  {
   "cell_type": "code",
   "execution_count": 141,
   "metadata": {},
   "outputs": [
    {
     "name": "stdout",
     "output_type": "stream",
     "text": [
      "hi\n"
     ]
    }
   ],
   "source": [
    "i=-1\n",
    "if(i>=0):\n",
    "    print(i)\n",
    "    print(i)\n",
    "    print(i)\n",
    "print(\"hi\")"
   ]
  },
  {
   "cell_type": "code",
   "execution_count": 144,
   "metadata": {},
   "outputs": [
    {
     "name": "stdout",
     "output_type": "stream",
     "text": [
      "60\n"
     ]
    }
   ],
   "source": [
    "x=60\n",
    "if(x>60):\n",
    "    x=x+5\n",
    "    print(x)\n",
    "print(x)"
   ]
  },
  {
   "cell_type": "code",
   "execution_count": 145,
   "metadata": {},
   "outputs": [
    {
     "name": "stdout",
     "output_type": "stream",
     "text": [
      "分母為0\n"
     ]
    }
   ],
   "source": [
    "numer=10\n",
    "demon=0\n",
    "if(demon!=0):\n",
    "    ans=numer/demon\n",
    "else:\n",
    "    ans=\"分母為0\"\n",
    "print(ans)"
   ]
  },
  {
   "cell_type": "code",
   "execution_count": 147,
   "metadata": {},
   "outputs": [
    {
     "name": "stdout",
     "output_type": "stream",
     "text": [
      "1.1111111111111112\n"
     ]
    }
   ],
   "source": [
    "numer=10\n",
    "demon=9\n",
    "if(demon!=0):\n",
    "    ans=numer/demon\n",
    "else:\n",
    "    ans=\"分母為0\"\n",
    "print(ans)"
   ]
  },
  {
   "cell_type": "code",
   "execution_count": 148,
   "metadata": {},
   "outputs": [
    {
     "data": {
      "text/plain": [
       "4"
      ]
     },
     "execution_count": 148,
     "metadata": {},
     "output_type": "execute_result"
    }
   ],
   "source": [
    "10%6"
   ]
  },
  {
   "cell_type": "code",
   "execution_count": 149,
   "metadata": {},
   "outputs": [
    {
     "name": "stdout",
     "output_type": "stream",
     "text": [
      "9 是奇數\n"
     ]
    }
   ],
   "source": [
    "num=9\n",
    "if(num%2==0):\n",
    "    print(num,\"是偶數\")\n",
    "else:\n",
    "    print(num,\"是奇數\")"
   ]
  },
  {
   "cell_type": "code",
   "execution_count": null,
   "metadata": {},
   "outputs": [],
   "source": []
  }
 ],
 "metadata": {
  "kernelspec": {
   "display_name": "Python 3",
   "language": "python",
   "name": "python3"
  },
  "language_info": {
   "codemirror_mode": {
    "name": "ipython",
    "version": 3
   },
   "file_extension": ".py",
   "mimetype": "text/x-python",
   "name": "python",
   "nbconvert_exporter": "python",
   "pygments_lexer": "ipython3",
   "version": "3.8.3"
  }
 },
 "nbformat": 4,
 "nbformat_minor": 4
}
