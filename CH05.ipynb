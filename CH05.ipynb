{
 "cells": [
  {
   "cell_type": "code",
   "execution_count": 2,
   "metadata": {},
   "outputs": [
    {
     "name": "stdout",
     "output_type": "stream",
     "text": [
      "enter a number30\n",
      "30 is multiple of 3\n"
     ]
    }
   ],
   "source": [
    "a=eval(input('enter a number'))\n",
    "if a%3==0:\n",
    "    print('%d is multiple of 3'%(a))\n",
    "elif a%5==0:\n",
    "    print('%d is multiple of 5'%(a))\n",
    "else:\n",
    "    print('%d is not multiple of 3 or 5'%(a))"
   ]
  },
  {
   "cell_type": "code",
   "execution_count": 7,
   "metadata": {},
   "outputs": [
    {
     "name": "stdout",
     "output_type": "stream",
     "text": [
      "enter a number9\n",
      "9 is multiple of 3\n"
     ]
    }
   ],
   "source": [
    "a=eval(input('enter a number'))\n",
    "if a%3==0:\n",
    "    print('%d is multiple of 3'%(a))\n",
    "if a%5==0:\n",
    "    print('%d is multiple of 5'%(a))\n",
    "if a%3!=0 and a%5!=0:\n",
    "    print('%d is not multiple of 3 or 5'%(a))"
   ]
  },
  {
   "cell_type": "code",
   "execution_count": 9,
   "metadata": {},
   "outputs": [
    {
     "name": "stdout",
     "output_type": "stream",
     "text": [
      "a= 110\n"
     ]
    }
   ],
   "source": [
    "a=100\n",
    "if a==100:\n",
    "    a+=10\n",
    "else:\n",
    "    a-=10\n",
    "print('a= %d'%(a))"
   ]
  },
  {
   "cell_type": "code",
   "execution_count": 10,
   "metadata": {},
   "outputs": [
    {
     "name": "stdout",
     "output_type": "stream",
     "text": [
      "a= 11\n"
     ]
    }
   ],
   "source": [
    "a=10\n",
    "if a>20:\n",
    "    a+=5\n",
    "elif a>10:\n",
    "    a+=2\n",
    "else:\n",
    "    a+=1\n",
    "print('a= %d'%(a))"
   ]
  },
  {
   "cell_type": "code",
   "execution_count": 11,
   "metadata": {},
   "outputs": [
    {
     "name": "stdout",
     "output_type": "stream",
     "text": [
      "100 是偶數\n"
     ]
    }
   ],
   "source": [
    "a1=100\n",
    "if a1%2==0:\n",
    "    print('%d 是偶數'%(a1))\n",
    "else:\n",
    "    print('%d 是奇數'%(a1))"
   ]
  },
  {
   "cell_type": "code",
   "execution_count": 14,
   "metadata": {},
   "outputs": [
    {
     "name": "stdout",
     "output_type": "stream",
     "text": [
      "輸入金額20000\n",
      "17000.0\n"
     ]
    }
   ],
   "source": [
    "cost=eval(input('輸入金額'))\n",
    "if 5000>=cost:\n",
    "    print(cost*0.95)\n",
    "elif 15000>=cost:\n",
    "    print(cost*0.9)\n",
    "elif 25000>=cost:\n",
    "    print(cost*0.85)\n",
    "else:\n",
    "    print(cost*0.8)"
   ]
  },
  {
   "cell_type": "code",
   "execution_count": 21,
   "metadata": {},
   "outputs": [
    {
     "name": "stdout",
     "output_type": "stream",
     "text": [
      "輸入月份12\n",
      "冬天\n"
     ]
    }
   ],
   "source": [
    "mon=eval(input('輸入月份'))\n",
    "if 3>=mon>=1:\n",
    "    print('春天')\n",
    "elif 6>=mon>=4:\n",
    "    print('夏天')\n",
    "elif 9>=mon>=7:\n",
    "    print('秋天')\n",
    "else :\n",
    "    print('冬天')"
   ]
  },
  {
   "cell_type": "code",
   "execution_count": 29,
   "metadata": {},
   "outputs": [
    {
     "name": "stdout",
     "output_type": "stream",
     "text": [
      "輸入年齡100\n",
      "399元\n"
     ]
    }
   ],
   "source": [
    "age=eval(input('輸入年齡'))\n",
    "if 0<=age<=5:\n",
    "    print('free')\n",
    "elif 6<=age<=11:\n",
    "    print('590元')\n",
    "elif 12<=age<=17:\n",
    "    print('790元')\n",
    "elif 18<=age<=59:\n",
    "    print('890元')\n",
    "else:\n",
    "    print('399元')"
   ]
  },
  {
   "cell_type": "code",
   "execution_count": 31,
   "metadata": {},
   "outputs": [
    {
     "name": "stdout",
     "output_type": "stream",
     "text": [
      "enter a number30\n",
      "30 is multiple of 3\n",
      "30 is multiple of 5\n"
     ]
    }
   ],
   "source": [
    "a=eval(input('enter a number'))\n",
    "if a%3==0:\n",
    "    print('%d is multiple of 3'%(a))\n",
    "if a%5==0:\n",
    "    print('%d is multiple of 5'%(a))\n",
    "if a%3!=0 and a%5!=0:\n",
    "    print('%d is not multiple of 3 or 5'%(a))"
   ]
  },
  {
   "cell_type": "code",
   "execution_count": 46,
   "metadata": {},
   "outputs": [
    {
     "name": "stdout",
     "output_type": "stream",
     "text": [
      "輸入一個字元A\n",
      "英文大寫\n"
     ]
    }
   ],
   "source": [
    "a=input('輸入一個字元')\n",
    "b=ord(a)\n",
    "\n",
    "if 57>=b>=48:\n",
    "    print('數字')\n",
    "elif 90>=b>=65:\n",
    "    print('英文大寫')\n",
    "elif 122>=b>=97:\n",
    "    print('英文小寫')\n",
    "else:\n",
    "    print('特殊字元')"
   ]
  },
  {
   "cell_type": "code",
   "execution_count": 47,
   "metadata": {},
   "outputs": [
    {
     "name": "stdout",
     "output_type": "stream",
     "text": [
      "輸入綜合所得淨額200000\n",
      "10000.0\n"
     ]
    }
   ],
   "source": [
    "w1=eval(input('輸入綜合所得淨額'))\n",
    "w=w1/1000\n",
    "if 540>=w>=0.001 or w==0:\n",
    "    print(w1*0.05)\n",
    "elif 1210>=w>540:\n",
    "    print(w1*0.12-37800)\n",
    "elif 2420>=w>1210:\n",
    "    print(w1*0.2-124600)\n",
    "elif 4530>=w>2420:\n",
    "    print(w1*0.3-376600)\n",
    "elif 10310>=w>4530:\n",
    "    print(w1*0.4-829600)\n",
    "else:\n",
    "    print(w1*0.45-1345100)"
   ]
  },
  {
   "cell_type": "code",
   "execution_count": 52,
   "metadata": {},
   "outputs": [
    {
     "name": "stdout",
     "output_type": "stream",
     "text": [
      "輸入座標判斷位置10,0\n",
      "圓上\n"
     ]
    }
   ],
   "source": [
    "x,y=eval(input('輸入座標判斷位置'))\n",
    "\n",
    "d=(x**2+y**2)**0.5\n",
    "\n",
    "if 10>d>=0:\n",
    "    print('圓內')\n",
    "elif d==10:\n",
    "    print('圓上')\n",
    "else:\n",
    "    print('圓外')"
   ]
  },
  {
   "cell_type": "code",
   "execution_count": null,
   "metadata": {},
   "outputs": [],
   "source": []
  },
  {
   "cell_type": "code",
   "execution_count": 62,
   "metadata": {},
   "outputs": [
    {
     "name": "stdout",
     "output_type": "stream",
     "text": [
      "輸入三角形邊長3,4,5\n",
      "6.0\n"
     ]
    }
   ],
   "source": [
    "s1,s2,s3=eval(input('輸入三角形邊長'))\n",
    "\n",
    "if s1+s2<=s3 or s1+s3<=s2 or s2+s3<=s1:\n",
    "    print('兩邊和要大於第三邊')\n",
    "else :\n",
    "    s=(s1+s2+s3)/2\n",
    "    area=(s*(s-s1)*(s-s2)*(s-s3))**0.5\n",
    "    print(area)"
   ]
  },
  {
   "cell_type": "code",
   "execution_count": 71,
   "metadata": {},
   "outputs": [
    {
     "name": "stdout",
     "output_type": "stream",
     "text": [
      "輸入四位數1001\n",
      "不是\n"
     ]
    }
   ],
   "source": [
    "#5-48\n",
    "n=str(input('輸入四位數'))\n",
    "\n",
    "w=(n)\n",
    "\n",
    "if w==n:\n",
    "    print('是')\n",
    "else:\n",
    "    print('不是')"
   ]
  },
  {
   "cell_type": "code",
   "execution_count": 75,
   "metadata": {},
   "outputs": [
    {
     "name": "stdout",
     "output_type": "stream",
     "text": [
      "1 Hello\n",
      "2 Hello\n",
      "3 Hello\n",
      "4 Hello\n"
     ]
    }
   ],
   "source": [
    "i = 1\n",
    "while(i<5):\n",
    "    print(i, \"Hello\")\n",
    "    i = i + 1"
   ]
  },
  {
   "cell_type": "code",
   "execution_count": 74,
   "metadata": {},
   "outputs": [
    {
     "name": "stdout",
     "output_type": "stream",
     "text": [
      "1 Hello\n",
      "2 Hello\n",
      "3 Hello\n",
      "4 Hello\n"
     ]
    }
   ],
   "source": [
    "for i in range(1, 4+1):\n",
    "    print(i, \"Hello\")"
   ]
  },
  {
   "cell_type": "code",
   "execution_count": 76,
   "metadata": {},
   "outputs": [
    {
     "name": "stdout",
     "output_type": "stream",
     "text": [
      "15\n",
      "6\n"
     ]
    }
   ],
   "source": [
    "i = 1\n",
    "total = 0\n",
    "while(i<=5):\n",
    "    total = total + i\n",
    "    i = i + 1\n",
    "print(total)\n",
    "print(i)"
   ]
  },
  {
   "cell_type": "code",
   "execution_count": 77,
   "metadata": {},
   "outputs": [
    {
     "name": "stdout",
     "output_type": "stream",
     "text": [
      "15\n",
      "5\n"
     ]
    }
   ],
   "source": [
    "total = 0\n",
    "for i in range(1, 5+1):\n",
    "    total = total + i\n",
    "print(total)\n",
    "print(i)"
   ]
  },
  {
   "cell_type": "code",
   "execution_count": 79,
   "metadata": {},
   "outputs": [
    {
     "name": "stdout",
     "output_type": "stream",
     "text": [
      "1 1\n",
      "3 4\n",
      "5 9\n",
      "7 16\n",
      "9 25\n",
      "total: 25\n",
      "i: 9\n"
     ]
    }
   ],
   "source": [
    "total = 0\n",
    "for i in range(1, 10+1, 2):\n",
    "    total = total + i\n",
    "    print(i, total)\n",
    "print(\"total:\", total)\n",
    "print(\"i:\", i)"
   ]
  },
  {
   "cell_type": "code",
   "execution_count": 78,
   "metadata": {},
   "outputs": [
    {
     "name": "stdout",
     "output_type": "stream",
     "text": [
      "0 0\n",
      "2 2\n",
      "4 6\n",
      "6 12\n",
      "8 20\n",
      "10 30\n",
      "total: 30\n",
      "i: 12\n"
     ]
    }
   ],
   "source": [
    "i = 0\n",
    "total = 0\n",
    "while(i<=10):\n",
    "    total = total + i\n",
    "    print(i, total)\n",
    "    i = i + 2\n",
    "print(\"total:\", total)\n",
    "print(\"i:\", i)"
   ]
  },
  {
   "cell_type": "code",
   "execution_count": 80,
   "metadata": {},
   "outputs": [
    {
     "name": "stdout",
     "output_type": "stream",
     "text": [
      "0 0\n",
      "2 2\n",
      "4 6\n",
      "6 12\n",
      "8 20\n",
      "10 30\n",
      "total: 30\n",
      "i: 10\n"
     ]
    }
   ],
   "source": [
    "total = 0\n",
    "for i in range(0, 10+1, 2):\n",
    "    total = total + i\n",
    "    print(i, total)\n",
    "print(\"total:\", total)\n",
    "print(\"i:\", i)"
   ]
  }
 ],
 "metadata": {
  "kernelspec": {
   "display_name": "Python 3",
   "language": "python",
   "name": "python3"
  },
  "language_info": {
   "codemirror_mode": {
    "name": "ipython",
    "version": 3
   },
   "file_extension": ".py",
   "mimetype": "text/x-python",
   "name": "python",
   "nbconvert_exporter": "python",
   "pygments_lexer": "ipython3",
   "version": "3.8.3"
  }
 },
 "nbformat": 4,
 "nbformat_minor": 4
}
